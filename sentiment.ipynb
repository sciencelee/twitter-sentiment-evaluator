{
 "cells": [
  {
   "cell_type": "markdown",
   "id": "absolute-cancer",
   "metadata": {},
   "source": [
    "# Twitter Sentiment Evaluator"
   ]
  },
  {
   "cell_type": "markdown",
   "id": "biological-perception",
   "metadata": {},
   "source": [
    "#### MY NOTES and research\n",
    "\n",
    "I started this project by doing all of the Deep NLP lessons at Flatiron in the appendix of Module 4\n",
    "This included:\n",
    "- Word embeddings\n",
    "- Word2vec\n",
    "- Sequence Models\n",
    "- Recurrant Neural Networks (RNN)\n",
    "- LSTM (Long Short term Membory) and GRU (Gated Recurrant Unit)\n",
    "\n",
    "I also did some code along and lab with word classifiers.\n",
    "RNN are good for time and sequenced classifications.  They can have vanishing and exploding gradient problems.  The modern equivalent to RNN is LSTM and GRU.  LSTM and GRU 'remember' and 'forget' data by feedback to the model throughout the sequence.  Gates keep only the most important info.  Neither is better, so you should try out both of them for these types of problems.  \n",
    "\n",
    "Other notes:\n",
    "We can train our own model, but there are ones out there that have been trained on all of wikipedia like GloVe which is what we will use here.  You can search for glove.6B.50d.txt to find the file.  It has all the weights and full dictionary of words.\n",
    "\n",
    "It is best to set up pipelines so we can run multiple model types.  We can use traditional tree based, SVC, or logistic regression models.  \n",
    "\n",
    "A Sequential NN with LSTM or GRU will likely work better for more complex tasks but will require more training and tuning time.\n",
    "\n",
    "The input layer has to be a RNN type to deal with sequential data, then you can set up traditional NN (Dense, pooling, dropout etc)"
   ]
  },
  {
   "cell_type": "markdown",
   "id": "simplified-albania",
   "metadata": {},
   "source": [
    "### Project guidance\n",
    "The Flatiron curriculum had this as an optional project, and that's why I'm trying it to build some skills.\n",
    "\n",
    "Below is from the instructions:\n",
    "\n",
    "If you choose this option, you'll build an NLP model to analyze Twitter sentiment about Apple and Google products. The dataset comes from CrowdFlower via data.world. Human raters rated the sentiment in over 9,000 Tweets as positive, negative, or neither.\n",
    "\n",
    "Your task is to:\n",
    "\n",
    "Build a model that can rate the sentiment of a Tweet based on its content.\n",
    "\n",
    "Aim for a Proof of Concept\n",
    "There are many approaches to NLP problems - start with something simple and iterate from there. For example, you could start by limiting your analysis to positive and negative Tweets only, allowing you to build a binary classifier. Then you could add in the neutral Tweets to build out a multiclass classifier. You may also consider using some of the more advanced NLP methods in the Mod 4 Appendix.\n",
    "\n",
    "\n",
    "#### Let's go!"
   ]
  },
  {
   "cell_type": "code",
   "execution_count": 286,
   "id": "copyrighted-element",
   "metadata": {},
   "outputs": [],
   "source": [
    "import pandas as pd\n",
    "\n",
    "import numpy as np\n",
    "np.random.seed(0)\n",
    "\n",
    "from nltk import word_tokenize\n",
    "from gensim.models import word2vec\n",
    "\n",
    "from sklearn.model_selection import train_test_split\n",
    "from sklearn.metrics import confusion_matrix"
   ]
  },
  {
   "cell_type": "code",
   "execution_count": 287,
   "id": "optical-constant",
   "metadata": {},
   "outputs": [
    {
     "name": "stdout",
     "output_type": "stream",
     "text": [
      "9093\n"
     ]
    },
    {
     "data": {
      "text/html": [
       "<div>\n",
       "<style scoped>\n",
       "    .dataframe tbody tr th:only-of-type {\n",
       "        vertical-align: middle;\n",
       "    }\n",
       "\n",
       "    .dataframe tbody tr th {\n",
       "        vertical-align: top;\n",
       "    }\n",
       "\n",
       "    .dataframe thead th {\n",
       "        text-align: right;\n",
       "    }\n",
       "</style>\n",
       "<table border=\"1\" class=\"dataframe\">\n",
       "  <thead>\n",
       "    <tr style=\"text-align: right;\">\n",
       "      <th></th>\n",
       "      <th>tweet_text</th>\n",
       "      <th>emotion_in_tweet_is_directed_at</th>\n",
       "      <th>emotion</th>\n",
       "    </tr>\n",
       "  </thead>\n",
       "  <tbody>\n",
       "    <tr>\n",
       "      <th>221</th>\n",
       "      <td>Just took a survey on iPhone while in Starbuck...</td>\n",
       "      <td>NaN</td>\n",
       "      <td>No emotion toward brand or product</td>\n",
       "    </tr>\n",
       "    <tr>\n",
       "      <th>7814</th>\n",
       "      <td>#blackberry users must feel like such losers h...</td>\n",
       "      <td>iPhone</td>\n",
       "      <td>Positive emotion</td>\n",
       "    </tr>\n",
       "    <tr>\n",
       "      <th>154</th>\n",
       "      <td>Anyone at #SXSW know if the apple store has ha...</td>\n",
       "      <td>NaN</td>\n",
       "      <td>No emotion toward brand or product</td>\n",
       "    </tr>\n",
       "    <tr>\n",
       "      <th>5742</th>\n",
       "      <td>RT @mention Free &amp;quot;Payments on the #Androi...</td>\n",
       "      <td>NaN</td>\n",
       "      <td>No emotion toward brand or product</td>\n",
       "    </tr>\n",
       "    <tr>\n",
       "      <th>1220</th>\n",
       "      <td>Listening to folks around the world making iPh...</td>\n",
       "      <td>NaN</td>\n",
       "      <td>No emotion toward brand or product</td>\n",
       "    </tr>\n",
       "  </tbody>\n",
       "</table>\n",
       "</div>"
      ],
      "text/plain": [
       "                                             tweet_text  \\\n",
       "221   Just took a survey on iPhone while in Starbuck...   \n",
       "7814  #blackberry users must feel like such losers h...   \n",
       "154   Anyone at #SXSW know if the apple store has ha...   \n",
       "5742  RT @mention Free &quot;Payments on the #Androi...   \n",
       "1220  Listening to folks around the world making iPh...   \n",
       "\n",
       "     emotion_in_tweet_is_directed_at                             emotion  \n",
       "221                              NaN  No emotion toward brand or product  \n",
       "7814                          iPhone                    Positive emotion  \n",
       "154                              NaN  No emotion toward brand or product  \n",
       "5742                             NaN  No emotion toward brand or product  \n",
       "1220                             NaN  No emotion toward brand or product  "
      ]
     },
     "execution_count": 287,
     "metadata": {},
     "output_type": "execute_result"
    }
   ],
   "source": [
    "df = pd.read_csv('judge-1377884607_tweet_product_company.csv')\n",
    "df = df.sample(frac=1)  # CHANGE ME TO ADJUST SIZE OF DATASET USED\n",
    "df['emotion'] = df['is_there_an_emotion_directed_at_a_brand_or_product']\n",
    "df = df.drop(columns=['is_there_an_emotion_directed_at_a_brand_or_product'])\n",
    "print(len(df))\n",
    "df.head()"
   ]
  },
  {
   "cell_type": "markdown",
   "id": "color-state",
   "metadata": {},
   "source": [
    "Now, let's transform the dataset\n",
    "\n",
    "In the cell below:\n",
    "\n",
    "Store the column that will be the target, 'category', in the variable target\n",
    "Use the 'tweet_text' column's .map() method to use the word_tokenize function on every piece of text\n",
    "Store the .values attribute from the newly tokenized 'tweet_text' column in the variable data"
   ]
  },
  {
   "cell_type": "code",
   "execution_count": 288,
   "id": "approximate-tsunami",
   "metadata": {},
   "outputs": [
    {
     "name": "stdout",
     "output_type": "stream",
     "text": [
      "<class 'pandas.core.frame.DataFrame'>\n",
      "Int64Index: 9092 entries, 221 to 2732\n",
      "Data columns (total 3 columns):\n",
      " #   Column                           Non-Null Count  Dtype \n",
      "---  ------                           --------------  ----- \n",
      " 0   tweet_text                       9092 non-null   object\n",
      " 1   emotion_in_tweet_is_directed_at  3291 non-null   object\n",
      " 2   emotion                          9092 non-null   object\n",
      "dtypes: object(3)\n",
      "memory usage: 284.1+ KB\n"
     ]
    }
   ],
   "source": [
    "df = df.dropna(subset=['emotion', 'tweet_text'])\n",
    "df.info()"
   ]
  },
  {
   "cell_type": "code",
   "execution_count": 289,
   "id": "acquired-automation",
   "metadata": {},
   "outputs": [],
   "source": [
    "target = df['emotion']\n",
    "data = df['tweet_text'].map(word_tokenize).values"
   ]
  },
  {
   "cell_type": "markdown",
   "id": "complex-communist",
   "metadata": {},
   "source": [
    "Loading A Pretrained GloVe Model\n",
    "\n",
    "\n",
    "For this project, I will be loading the pretrained weights from GloVe (short for Global Vectors for Word Representation ) from the Stanford NLP Group. \n",
    "\n",
    "These are commonly accepted as some of the best pre-trained word vectors available, and they're open source, so you can get them for free! Even the smallest file is still over 800 MB, so you'll you need to download this file manually.\n",
    "\n",
    "Note that there are several different sizes of pretrained word vectors available for download from the page linked above -- for the purposes of this lesson, you'll only need to use the smallest one, which still contains pretrained word vectors for over 6 billion words and phrases! To download this file, follow the link above and select the file called glove.6b.zip. For simplicity's sake, you can also start the download by clicking this link. You'll be using the GloVe file containing 50-dimensional word vectors for 6 billion words. Once you've downloaded the file, unzip it, and move the file glove.6B.50d.txt into the same directory as this Jupyter notebook.\n",
    "\n",
    "Since this is a 'proof of concept' project, I will just do the smaller glove to save time.\n",
    "\n",
    "Getting the Total Vocabulary\n",
    "Although the pretrained GloVe data contains vectors for 6 billion words and phrases, you don't need all of them. Instead, you only need the vectors for the words that appear in the dataset. If a word or phrase doesn't appear in the dataset, then there's no reason to waste memory storing the vector for that word or phrase.\n",
    "\n",
    "This means that you need to start by computing the total vocabulary of the dataset. You can do this by adding every word in the dataset into a Python set object. This is easy, since you've already tokenized each comment stored within data.\n",
    "\n",
    "In the cell below, add every token from every comment in data into a set, and store the set in the variable total_vocabulary."
   ]
  },
  {
   "cell_type": "code",
   "execution_count": 290,
   "id": "accomplished-state",
   "metadata": {},
   "outputs": [
    {
     "name": "stdout",
     "output_type": "stream",
     "text": [
      "There are 10665 unique words in the dataset.\n",
      "There are 9092 unique tweets in the dataset.\n"
     ]
    }
   ],
   "source": [
    "total_vocabulary = set(word.lower() for tweet in data for word in tweet)  # set created from nested comprehension \n",
    "print('There are {} unique words in the dataset.'.format(len(total_vocabulary)))\n",
    "print('There are {} unique tweets in the dataset.'.format(len(data)))\n"
   ]
  },
  {
   "cell_type": "markdown",
   "id": "framed-settlement",
   "metadata": {},
   "source": [
    "### Extract Glove vectors\n",
    "We will take only the relevant words that exist in our dataset and see how that works.\n",
    "\n",
    "For testing, we will only use 20% of the dataset.  Later, if we have the resources, we will up that number.  Its in the first lines of code in this ipynb."
   ]
  },
  {
   "cell_type": "code",
   "execution_count": 291,
   "id": "numerical-trinidad",
   "metadata": {},
   "outputs": [],
   "source": [
    "glove = {} # single dict to hold all of my words and vectors\n",
    "with open('glove.6B.50d.txt', 'rb') as f:\n",
    "    for line in f:\n",
    "        parts = line.split()  # go line by line and split to \n",
    "        word = parts[0].decode('utf-8')  # just pulls out the word, not the vectors\n",
    "        if word in total_vocabulary:\n",
    "            # if the word is in our dataset, we grab the vectors and put it in the glove dictionary\n",
    "            vector = np.array(parts[1:], dtype=np.float32)  # everything past the word is the vector\n",
    "            glove[word] = vector # add to dict"
   ]
  },
  {
   "cell_type": "markdown",
   "id": "blocked-disco",
   "metadata": {},
   "source": [
    "After running the cell above, you now have all of the words and their corresponding vocabulary stored within the dictionary, glove, as key/value pairs."
   ]
  },
  {
   "cell_type": "code",
   "execution_count": 292,
   "id": "hidden-theme",
   "metadata": {},
   "outputs": [
    {
     "name": "stdout",
     "output_type": "stream",
     "text": [
      "7950\n"
     ]
    },
    {
     "data": {
      "text/plain": [
       "array([-0.14968  , -0.42252  ,  0.16736  ,  0.13474  , -0.31065  ,\n",
       "       -0.11993  ,  0.041695 ,  0.32462  ,  0.15964  ,  0.063534 ,\n",
       "       -0.55293  , -0.69798  , -0.88776  ,  0.1533   ,  1.4365   ,\n",
       "       -0.51171  ,  0.21257  , -0.084376 , -1.078    ,  0.50821  ,\n",
       "       -0.51022  , -0.27264  ,  0.2177   , -0.14752  ,  0.12493  ,\n",
       "       -1.3302   , -1.0127   , -0.13035  ,  1.0936   ,  0.73769  ,\n",
       "        2.7542   ,  0.47829  ,  0.62271  , -0.55323  , -0.2487   ,\n",
       "        0.49747  , -0.25406  , -0.82531  ,  0.2355   , -0.31773  ,\n",
       "       -2.0148   ,  0.0085579,  0.59227  , -0.22375  ,  0.097944 ,\n",
       "        0.7723   , -0.19696  ,  0.45305  ,  0.58813  , -0.15727  ],\n",
       "      dtype=float32)"
      ]
     },
     "execution_count": 292,
     "metadata": {},
     "output_type": "execute_result"
    }
   ],
   "source": [
    "print(len(glove))  # not as many words as above, but maybe some hashtags or misspellings etc not in set (check later)\n",
    "glove['worst'] # quick check.  I would assume worst will be in there when using reviews"
   ]
  },
  {
   "cell_type": "markdown",
   "id": "sought-drain",
   "metadata": {},
   "source": [
    "### Create Mean Word Embeddings\n",
    "\n",
    "For this step, we will set up pipelines from scikit-learn. Using pipelines will save us time and make the code a bit cleaner."
   ]
  },
  {
   "cell_type": "code",
   "execution_count": 293,
   "id": "decent-sydney",
   "metadata": {},
   "outputs": [],
   "source": [
    "class W2vVectorizer(object):\n",
    "    '''\n",
    "    word vector object that we can use in pipeline\n",
    "    '''\n",
    "    def __init__(self, w2v):\n",
    "        # Takes in a dictionary of words and vectors as input\n",
    "        self.w2v = w2v\n",
    "        if len(w2v) == 0:\n",
    "            self.dimensions = 0\n",
    "        else:\n",
    "            self.dimensions = len(w2v[next(iter(glove))])\n",
    "    \n",
    "    # Note: Even though it doesn't do anything, it's required that this object implement a fit method or else\n",
    "    # it can't be used in a scikit-learn pipeline  \n",
    "    def fit(self, X, y):\n",
    "        return self\n",
    "            \n",
    "    def transform(self, X):\n",
    "        return np.array([\n",
    "            np.mean([self.w2v[w] for w in words if w in self.w2v]\n",
    "                   or [np.zeros(self.dimensions)], axis=0) for words in X])"
   ]
  },
  {
   "cell_type": "markdown",
   "id": "shaped-blame",
   "metadata": {},
   "source": [
    "## Pipelines\n",
    "\n",
    "Since we created a mean vectorizer class, you can pass this in as the first step in the pipeline, and then follow it up with the model you'll feed the data into for classification.\n",
    "\n",
    "Run the cell below to create pipeline objects that make use of the mean embedding vectorizer that was built above."
   ]
  },
  {
   "cell_type": "code",
   "execution_count": 294,
   "id": "random-delhi",
   "metadata": {},
   "outputs": [],
   "source": [
    "from sklearn.ensemble import RandomForestClassifier\n",
    "from sklearn.svm import SVC\n",
    "from sklearn.linear_model import LogisticRegression\n",
    "from sklearn.pipeline import Pipeline\n",
    "from sklearn.model_selection import cross_val_score\n",
    "\n",
    "rf =  Pipeline([('Word2Vec Vectorizer', W2vVectorizer(glove)),\n",
    "              ('Random Forest', RandomForestClassifier(n_estimators=100, verbose=True))])\n",
    "svc = Pipeline([('Word2Vec Vectorizer', W2vVectorizer(glove)),\n",
    "                ('Support Vector Machine', SVC())])\n",
    "lr = Pipeline([('Word2Vec Vectorizer', W2vVectorizer(glove)),\n",
    "              ('Logistic Regression', LogisticRegression())])"
   ]
  },
  {
   "cell_type": "markdown",
   "id": "responsible-running",
   "metadata": {},
   "source": [
    "Now, we create a list that contains a tuple for each pipeline, where the first item in the tuple is a name, and the second item in the list is the actual pipeline object."
   ]
  },
  {
   "cell_type": "code",
   "execution_count": 295,
   "id": "measured-catalyst",
   "metadata": {},
   "outputs": [],
   "source": [
    "models = [('Random Forest', rf),\n",
    "          ('Support Vector Machine', svc),\n",
    "          ('Logistic Regression', lr)]"
   ]
  },
  {
   "cell_type": "markdown",
   "id": "detailed-harvest",
   "metadata": {},
   "source": [
    "Use the list created above, and cross_val_score() function from scikit-learn to train all the models, and store their cross validation scores in an array."
   ]
  },
  {
   "cell_type": "code",
   "execution_count": 296,
   "id": "hazardous-school",
   "metadata": {},
   "outputs": [
    {
     "name": "stderr",
     "output_type": "stream",
     "text": [
      "[Parallel(n_jobs=1)]: Using backend SequentialBackend with 1 concurrent workers.\n",
      "[Parallel(n_jobs=1)]: Done 100 out of 100 | elapsed:    3.4s finished\n",
      "[Parallel(n_jobs=1)]: Using backend SequentialBackend with 1 concurrent workers.\n",
      "[Parallel(n_jobs=1)]: Done 100 out of 100 | elapsed:    0.1s finished\n",
      "[Parallel(n_jobs=1)]: Using backend SequentialBackend with 1 concurrent workers.\n",
      "[Parallel(n_jobs=1)]: Done 100 out of 100 | elapsed:    3.1s finished\n",
      "[Parallel(n_jobs=1)]: Using backend SequentialBackend with 1 concurrent workers.\n",
      "[Parallel(n_jobs=1)]: Done 100 out of 100 | elapsed:    0.1s finished\n",
      "/Users/aaronlee/opt/anaconda3/lib/python3.7/site-packages/sklearn/linear_model/_logistic.py:765: ConvergenceWarning: lbfgs failed to converge (status=1):\n",
      "STOP: TOTAL NO. of ITERATIONS REACHED LIMIT.\n",
      "\n",
      "Increase the number of iterations (max_iter) or scale the data as shown in:\n",
      "    https://scikit-learn.org/stable/modules/preprocessing.html\n",
      "Please also refer to the documentation for alternative solver options:\n",
      "    https://scikit-learn.org/stable/modules/linear_model.html#logistic-regression\n",
      "  extra_warning_msg=_LOGISTIC_SOLVER_CONVERGENCE_MSG)\n",
      "/Users/aaronlee/opt/anaconda3/lib/python3.7/site-packages/sklearn/linear_model/_logistic.py:765: ConvergenceWarning: lbfgs failed to converge (status=1):\n",
      "STOP: TOTAL NO. of ITERATIONS REACHED LIMIT.\n",
      "\n",
      "Increase the number of iterations (max_iter) or scale the data as shown in:\n",
      "    https://scikit-learn.org/stable/modules/preprocessing.html\n",
      "Please also refer to the documentation for alternative solver options:\n",
      "    https://scikit-learn.org/stable/modules/linear_model.html#logistic-regression\n",
      "  extra_warning_msg=_LOGISTIC_SOLVER_CONVERGENCE_MSG)\n"
     ]
    }
   ],
   "source": [
    "#  This cell may take a while to run depending on set size\n",
    "scores = [(name, cross_val_score(model, data, target, cv=2).mean()) for name, model, in models]"
   ]
  },
  {
   "cell_type": "code",
   "execution_count": 297,
   "id": "stock-duncan",
   "metadata": {},
   "outputs": [
    {
     "name": "stdout",
     "output_type": "stream",
     "text": [
      "[('Random Forest', 0.6188957325120985), ('Support Vector Machine', 0.5955785305763308), ('Logistic Regression', 0.6132864056313243)]\n"
     ]
    },
    {
     "data": {
      "text/plain": [
       "array(['No emotion toward brand or product', 'Positive emotion',\n",
       "       'Negative emotion', \"I can't tell\"], dtype=object)"
      ]
     },
     "execution_count": 297,
     "metadata": {},
     "output_type": "execute_result"
    }
   ],
   "source": [
    "print(scores)\n",
    "df.emotion.unique()"
   ]
  },
  {
   "cell_type": "markdown",
   "id": "requested-lottery",
   "metadata": {},
   "source": [
    "These scores are pretty good.  There are 4 categories, so unweighted random would be 0.25.  We got around 0.60 with only 20% of the dataset"
   ]
  },
  {
   "cell_type": "markdown",
   "id": "circular-hawaii",
   "metadata": {},
   "source": [
    "# Deep Learning\n",
    "We used untuned supervised ML above.  Now let's try out the RNN method (the reason I wanted to do this project)."
   ]
  },
  {
   "cell_type": "code",
   "execution_count": 298,
   "id": "automated-wallet",
   "metadata": {},
   "outputs": [],
   "source": [
    "from keras.preprocessing.sequence import pad_sequences\n",
    "from keras.layers import Input, Dense, LSTM, Embedding\n",
    "from keras.layers import Dropout, Activation, Bidirectional, GlobalMaxPool1D\n",
    "from keras.models import Sequential\n",
    "from keras import initializers, regularizers, constraints, optimizers, layers\n",
    "from keras.preprocessing import text, sequence"
   ]
  },
  {
   "cell_type": "markdown",
   "id": "handled-component",
   "metadata": {},
   "source": [
    "One-hot encode the labels."
   ]
  },
  {
   "cell_type": "code",
   "execution_count": 299,
   "id": "geological-attribute",
   "metadata": {},
   "outputs": [],
   "source": [
    "y = pd.get_dummies(target).values"
   ]
  },
  {
   "cell_type": "markdown",
   "id": "other-munich",
   "metadata": {},
   "source": [
    "Now, you'll preprocess the tweet_text data. Use Keras' preprocessing tools to tokenize each example, convert them to sequences, and then pad the sequences so they're all the same length."
   ]
  },
  {
   "cell_type": "code",
   "execution_count": 300,
   "id": "clean-stocks",
   "metadata": {},
   "outputs": [],
   "source": [
    "tokenizer = text.Tokenizer(num_words=20000)  # limit to the num_words most important ones\n",
    "tokenizer.fit_on_texts(list(df['tweet_text']))\n",
    "list_tokenized_headlines = tokenizer.texts_to_sequences(df['tweet_text'])\n",
    "X_t = sequence.pad_sequences(list_tokenized_headlines, maxlen=100)"
   ]
  },
  {
   "cell_type": "markdown",
   "id": "saving-exclusive",
   "metadata": {},
   "source": [
    "## Split my data"
   ]
  },
  {
   "cell_type": "code",
   "execution_count": 336,
   "id": "internal-browser",
   "metadata": {},
   "outputs": [],
   "source": [
    "X_train, X_test, y_train, y_test = train_test_split(X_t, y, test_size=0.2)"
   ]
  },
  {
   "cell_type": "code",
   "execution_count": null,
   "id": "secret-peninsula",
   "metadata": {},
   "outputs": [],
   "source": []
  },
  {
   "cell_type": "markdown",
   "id": "diverse-refund",
   "metadata": {},
   "source": [
    "Construct the neural network. In the embedding layer, specify the size you want the word vectors to be, as well as the size of the embedding space itself. The embedding size will be 128, and the size of the embedding space is best as the size of the total vocabulary that we're using.\n",
    "\n",
    "Once the data has passed through an embedding layer, you feed this data into an LSTM layer, followed by a Dense layer, followed by output layer. You also add some Dropout layers after each of these layers, to help fight overfitting.\n",
    "\n",
    "Our output layer is a Dense layer with 4 neurons, which corresponds to the 4 possible classes in the labels. You set the activation function for this output layer to 'softmax', so that the network will output a vector of predictions, where each element's value corresponds to the percentage chance that the example is the class that corresponds to that element, and where the sum of all elements in the output vector is 1."
   ]
  },
  {
   "cell_type": "code",
   "execution_count": 337,
   "id": "original-apple",
   "metadata": {},
   "outputs": [],
   "source": [
    "model = Sequential()"
   ]
  },
  {
   "cell_type": "code",
   "execution_count": 338,
   "id": "floppy-silver",
   "metadata": {},
   "outputs": [],
   "source": [
    "embedding_size = 128\n",
    "model.add(Embedding(len(total_vocabulary), embedding_size))\n",
    "model.add(LSTM(25, return_sequences=True))\n",
    "model.add(GlobalMaxPool1D())\n",
    "model.add(Dropout(0.5))\n",
    "model.add(Dense(50, activation='relu'))\n",
    "model.add(Dropout(0.5))\n",
    "model.add(Dense(4, activation='softmax'))  # use 4 because we have 4 categories"
   ]
  },
  {
   "cell_type": "markdown",
   "id": "after-tunnel",
   "metadata": {},
   "source": [
    "Now compile model, and provide important parameters such as the loss function to use ('categorical_crossentropy', since this is a multiclass classification problem), and the optimizer to use.\n",
    "\n"
   ]
  },
  {
   "cell_type": "code",
   "execution_count": 339,
   "id": "conscious-japanese",
   "metadata": {},
   "outputs": [],
   "source": [
    "model.compile(loss='categorical_crossentropy', \n",
    "              optimizer='adam', \n",
    "              metrics=['accuracy'])"
   ]
  },
  {
   "cell_type": "markdown",
   "id": "wireless-endorsement",
   "metadata": {},
   "source": [
    "After compiling the model, you quickly check the summary of the model to see what the model looks like, and make sure the output shapes line up with what you expect.\n",
    "\n"
   ]
  },
  {
   "cell_type": "code",
   "execution_count": 340,
   "id": "metric-emperor",
   "metadata": {},
   "outputs": [
    {
     "name": "stdout",
     "output_type": "stream",
     "text": [
      "Model: \"sequential_11\"\n",
      "_________________________________________________________________\n",
      "Layer (type)                 Output Shape              Param #   \n",
      "=================================================================\n",
      "embedding_12 (Embedding)     (None, None, 128)         1365120   \n",
      "_________________________________________________________________\n",
      "lstm_12 (LSTM)               (None, None, 25)          15400     \n",
      "_________________________________________________________________\n",
      "global_max_pooling1d_12 (Glo (None, 25)                0         \n",
      "_________________________________________________________________\n",
      "dropout_24 (Dropout)         (None, 25)                0         \n",
      "_________________________________________________________________\n",
      "dense_24 (Dense)             (None, 50)                1300      \n",
      "_________________________________________________________________\n",
      "dropout_25 (Dropout)         (None, 50)                0         \n",
      "_________________________________________________________________\n",
      "dense_25 (Dense)             (None, 4)                 204       \n",
      "=================================================================\n",
      "Total params: 1,382,024\n",
      "Trainable params: 1,382,024\n",
      "Non-trainable params: 0\n",
      "_________________________________________________________________\n"
     ]
    }
   ],
   "source": [
    "model.summary()\n"
   ]
  },
  {
   "cell_type": "markdown",
   "id": "elegant-genetics",
   "metadata": {},
   "source": [
    "Finally, you can fit the model by passing in the data, the labels, and setting some other hyperparameters such as the batch size, the number of epochs to train for, and what percentage of the training data to use for validation data.\n",
    "\n",
    "Run the cell below and adjust the epochs as needed for time. T|raining will take some time!"
   ]
  },
  {
   "cell_type": "code",
   "execution_count": 341,
   "id": "better-workplace",
   "metadata": {},
   "outputs": [
    {
     "name": "stdout",
     "output_type": "stream",
     "text": [
      "7273 7273\n"
     ]
    }
   ],
   "source": [
    "print(len(X_train), len(y_train))"
   ]
  },
  {
   "cell_type": "code",
   "execution_count": 342,
   "id": "loose-attempt",
   "metadata": {},
   "outputs": [
    {
     "name": "stdout",
     "output_type": "stream",
     "text": [
      "Epoch 1/10\n",
      "256/256 [==============================] - 21s 73ms/step - loss: 1.0560 - accuracy: 0.5468 - val_loss: 0.9015 - val_accuracy: 0.5989\n",
      "Epoch 2/10\n",
      "256/256 [==============================] - 17s 65ms/step - loss: 0.9097 - accuracy: 0.6017 - val_loss: 0.8340 - val_accuracy: 0.6560\n",
      "Epoch 3/10\n",
      "256/256 [==============================] - 17s 65ms/step - loss: 0.7694 - accuracy: 0.6797 - val_loss: 0.8000 - val_accuracy: 0.6813\n",
      "Epoch 4/10\n",
      "256/256 [==============================] - 17s 66ms/step - loss: 0.6364 - accuracy: 0.7502 - val_loss: 0.8344 - val_accuracy: 0.6835\n",
      "Epoch 5/10\n",
      "256/256 [==============================] - 18s 69ms/step - loss: 0.5072 - accuracy: 0.8112 - val_loss: 0.8722 - val_accuracy: 0.6857\n",
      "Epoch 6/10\n",
      "256/256 [==============================] - 17s 67ms/step - loss: 0.4314 - accuracy: 0.8464 - val_loss: 0.9530 - val_accuracy: 0.6769\n",
      "Epoch 7/10\n",
      "256/256 [==============================] - 19s 73ms/step - loss: 0.3776 - accuracy: 0.8688 - val_loss: 1.1188 - val_accuracy: 0.6769\n",
      "Epoch 8/10\n",
      "256/256 [==============================] - 18s 71ms/step - loss: 0.3389 - accuracy: 0.8768 - val_loss: 1.2559 - val_accuracy: 0.6714\n",
      "Epoch 9/10\n",
      "256/256 [==============================] - 18s 71ms/step - loss: 0.3188 - accuracy: 0.8856 - val_loss: 1.3426 - val_accuracy: 0.6736\n",
      "Epoch 10/10\n",
      "256/256 [==============================] - 17s 67ms/step - loss: 0.2959 - accuracy: 0.8885 - val_loss: 1.5958 - val_accuracy: 0.6440\n"
     ]
    },
    {
     "data": {
      "text/plain": [
       "<tensorflow.python.keras.callbacks.History at 0x7fd5be16b090>"
      ]
     },
     "execution_count": 342,
     "metadata": {},
     "output_type": "execute_result"
    }
   ],
   "source": [
    "# ⏰ This cell may take several minutes to run\n",
    "model.fit(X_t, y, epochs=10, batch_size=32, validation_split=0.1)"
   ]
  },
  {
   "cell_type": "markdown",
   "id": "missing-corrections",
   "metadata": {},
   "source": [
    "# Evalute the results"
   ]
  },
  {
   "cell_type": "code",
   "execution_count": 343,
   "id": "piano-sunday",
   "metadata": {},
   "outputs": [
    {
     "data": {
      "text/plain": [
       "array(['No emotion toward brand or product', 'Positive emotion',\n",
       "       'Negative emotion', \"I can't tell\"], dtype=object)"
      ]
     },
     "execution_count": 343,
     "metadata": {},
     "output_type": "execute_result"
    }
   ],
   "source": [
    "def prediction(array, outcomes):\n",
    "    index = np.argmax(array)    \n",
    "    pred = outcomes[index]\n",
    "    return pred\n",
    "    \n",
    "\n",
    "outcomes = df['emotion'].unique()\n",
    "y_pred = model.predict(X_test)\n",
    "y_pred = pd.DataFrame(y_pred).apply(lambda x: prediction(x, outcomes), axis=1)\n",
    "\n",
    "outcomes"
   ]
  },
  {
   "cell_type": "code",
   "execution_count": null,
   "id": "drawn-arbor",
   "metadata": {},
   "outputs": [],
   "source": []
  },
  {
   "cell_type": "code",
   "execution_count": 344,
   "id": "measured-franchise",
   "metadata": {},
   "outputs": [
    {
     "name": "stdout",
     "output_type": "stream",
     "text": [
      "Negative emotion    1062\n",
      "I can't tell         597\n",
      "Positive emotion     160\n",
      "dtype: int64\n",
      "No emotion toward brand or product    5388\n",
      "Positive emotion                      2978\n",
      "Negative emotion                       570\n",
      "I can't tell                           156\n",
      "Name: emotion, dtype: int64\n"
     ]
    }
   ],
   "source": [
    "print(y_pred.value_counts())  # just want to check numbers on these\n",
    "print(df['emotion'].value_counts())\n"
   ]
  },
  {
   "cell_type": "code",
   "execution_count": 345,
   "id": "simplified-indication",
   "metadata": {},
   "outputs": [],
   "source": [
    "y_test_ = pd.DataFrame(y_test).apply(lambda x: prediction(x, outcomes), axis=1)"
   ]
  },
  {
   "cell_type": "code",
   "execution_count": 346,
   "id": "timely-expansion",
   "metadata": {},
   "outputs": [
    {
     "name": "stdout",
     "output_type": "stream",
     "text": [
      "(1819,) (1819,)\n",
      "(1819, 100) (1819, 4)\n"
     ]
    }
   ],
   "source": [
    "print(y_test_.shape, y_pred.shape)\n",
    "print(X_test.shape, y_test.shape)"
   ]
  },
  {
   "cell_type": "code",
   "execution_count": 347,
   "id": "reasonable-teaching",
   "metadata": {},
   "outputs": [],
   "source": [
    "cm = confusion_matrix(y_test_, y_pred)"
   ]
  },
  {
   "cell_type": "code",
   "execution_count": 348,
   "id": "golden-opening",
   "metadata": {},
   "outputs": [
    {
     "data": {
      "text/plain": [
       "Text(68.99999999999999, 0.5, 'Actual')"
      ]
     },
     "execution_count": 348,
     "metadata": {},
     "output_type": "execute_result"
    },
    {
     "data": {
      "image/png": "[encoded data removed]",
      "text/plain": [
       "<Figure size 720x504 with 2 Axes>"
      ]
     },
     "metadata": {
      "needs_background": "light"
     },
     "output_type": "display_data"
    }
   ],
   "source": [
    "import seaborn as sn\n",
    "import matplotlib.pyplot as plt\n",
    "\n",
    "x_axis_labels = outcomes\n",
    "y_axis_labels = outcomes\n",
    "\n",
    "plt.figure(figsize = (10,7))\n",
    "sn.heatmap(cm, annot=True, cmap=\"Blues\",  xticklabels=x_axis_labels, yticklabels=y_axis_labels)\n",
    "plt.xlabel('Prediciton')\n",
    "plt.ylabel('Actual')"
   ]
  },
  {
   "cell_type": "markdown",
   "id": "supreme-collection",
   "metadata": {},
   "source": [
    "# Results\n",
    "\n",
    "The confusion matrix shows that there were very few tweets graded as negative.  The neural network doesn't predict any negatives due to the small number.\n",
    "\n",
    "More than half are positive emotions, and rest is split between 'can't tell' and 'no emotion'.  \n",
    "\n",
    "The model predicts at nearly 90% accuracy against the test set.  The base supervised modesl (untuned) only scored around 60% by comparison.  The RNN is well suited for this task.  \n",
    "\n",
    "A larger dataset, or perhaps a more negative dataset might help train the model to make predictions at a higher rate.  In the current state, it would be unabl to pick out the negative sentiment.  Barring a larger dataset, we could oversample the minority class randomly or using SMOTE.  This would make the model more sensitive to 'negative' sentiment.\n"
   ]
  }
 ],
 "metadata": {
  "kernelspec": {
   "display_name": "Python 3",
   "language": "python",
   "name": "python3"
  },
  "language_info": {
   "codemirror_mode": {
    "name": "ipython",
    "version": 3
   },
   "file_extension": ".py",
   "mimetype": "text/x-python",
   "name": "python",
   "nbconvert_exporter": "python",
   "pygments_lexer": "ipython3",
   "version": "3.7.6"
  }
 },
 "nbformat": 4,
 "nbformat_minor": 5
}
