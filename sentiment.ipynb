{
 "cells": [
  {
   "cell_type": "markdown",
   "id": "absolute-cancer",
   "metadata": {},
   "source": [
    "# Twitter Sentiment Evaluator"
   ]
  },
  {
   "cell_type": "markdown",
   "id": "biological-perception",
   "metadata": {},
   "source": [
    "#### MY NOTES and research\n",
    "\n",
    "I started this project by doing all of the Deep NLP lessons at Flatiron in the appendix of Module 4\n",
    "This included:\n",
    "- Word embeddings\n",
    "- Word2vec\n",
    "- Sequence Models\n",
    "- Recurrant Neural Networks (RNN)\n",
    "- LSTM (Long Short term Membory) and GRU (Gated Recurrant Unit)\n",
    "\n",
    "I also did some code along and lab with word classifiers.\n",
    "RNN are good for time and sequenced classifications.  They can have vanishing and exploding gradient problems.  The modern equivalent to RNN is LSTM and GRU.  LSTM and GRU 'remember' and 'forget' data by feedback to the model throughout the sequence.  Gates keep only the most important info.  Neither is better, so you should try out both of them for these types of problems.  \n",
    "\n",
    "Other notes:\n",
    "We can train our own model, but there are ones out there that have been trained on all of wikipedia like GloVe which is what we will use here.  You can search for glove.6B.200d.txt to find the file.  It has all the weights and full dictionary of words. It has 200 dimensions for each word, and other larger vecotrs can be used if you want to train for more precision.\n",
    "\n",
    "It is best to set up pipelines so we can run multiple model types.  We can use traditional tree based, SVC, or logistic regression models.  \n",
    "\n",
    "A Sequential NN with LSTM or GRU will likely work better for more complex tasks but will require more training and tuning time.\n",
    "\n",
    "The input layer has to be a RNN type to deal with sequential data, then you can set up traditional NN (Dense, pooling, dropout etc)"
   ]
  },
  {
   "cell_type": "markdown",
   "id": "simplified-albania",
   "metadata": {},
   "source": [
    "### Project guidance\n",
    "The Flatiron curriculum had this as an optional project, and that's why I'm trying it to build some skills.\n",
    "\n",
    "Below is from the instructions:\n",
    "\n",
    "If you choose this option, you'll build an NLP model to analyze Twitter sentiment about Apple and Google products. The dataset comes from CrowdFlower via data.world. Human raters rated the sentiment in over 9,000 Tweets as positive, negative, or neither.\n",
    "\n",
    "Your task is to:\n",
    "\n",
    "Build a model that can rate the sentiment of a Tweet based on its content.\n",
    "\n",
    "Aim for a Proof of Concept\n",
    "There are many approaches to NLP problems - start with something simple and iterate from there. For example, you could start by limiting your analysis to positive and negative Tweets only, allowing you to build a binary classifier. Then you could add in the neutral Tweets to build out a multiclass classifier. You may also consider using some of the more advanced NLP methods in the Mod 4 Appendix.\n",
    "\n",
    "\n",
    "#### Let's go!"
   ]
  },
  {
   "cell_type": "code",
   "execution_count": 1,
   "id": "copyrighted-element",
   "metadata": {},
   "outputs": [
    {
     "name": "stderr",
     "output_type": "stream",
     "text": [
      "/Users/aaronlee/opt/anaconda3/lib/python3.7/site-packages/gensim/similarities/__init__.py:15: UserWarning: The gensim.similarities.levenshtein submodule is disabled, because the optional Levenshtein package <https://pypi.org/project/python-Levenshtein/> is unavailable. Install Levenhstein (e.g. `pip install python-Levenshtein`) to suppress this warning.\n",
      "  warnings.warn(msg)\n"
     ]
    }
   ],
   "source": [
    "import pandas as pd\n",
    "\n",
    "import numpy as np\n",
    "np.random.seed(0)\n",
    "\n",
    "from nltk import word_tokenize\n",
    "from gensim.models import word2vec\n",
    "\n",
    "from sklearn.model_selection import train_test_split\n",
    "from sklearn.metrics import confusion_matrix"
   ]
  },
  {
   "cell_type": "code",
   "execution_count": 2,
   "id": "optical-constant",
   "metadata": {},
   "outputs": [
    {
     "name": "stdout",
     "output_type": "stream",
     "text": [
      "9093\n"
     ]
    },
    {
     "data": {
      "text/html": [
       "<div>\n",
       "<style scoped>\n",
       "    .dataframe tbody tr th:only-of-type {\n",
       "        vertical-align: middle;\n",
       "    }\n",
       "\n",
       "    .dataframe tbody tr th {\n",
       "        vertical-align: top;\n",
       "    }\n",
       "\n",
       "    .dataframe thead th {\n",
       "        text-align: right;\n",
       "    }\n",
       "</style>\n",
       "<table border=\"1\" class=\"dataframe\">\n",
       "  <thead>\n",
       "    <tr style=\"text-align: right;\">\n",
       "      <th></th>\n",
       "      <th>tweet_text</th>\n",
       "      <th>emotion_in_tweet_is_directed_at</th>\n",
       "      <th>emotion</th>\n",
       "    </tr>\n",
       "  </thead>\n",
       "  <tbody>\n",
       "    <tr>\n",
       "      <th>221</th>\n",
       "      <td>Just took a survey on iPhone while in Starbuck...</td>\n",
       "      <td>NaN</td>\n",
       "      <td>No emotion toward brand or product</td>\n",
       "    </tr>\n",
       "    <tr>\n",
       "      <th>7814</th>\n",
       "      <td>#blackberry users must feel like such losers h...</td>\n",
       "      <td>iPhone</td>\n",
       "      <td>Positive emotion</td>\n",
       "    </tr>\n",
       "    <tr>\n",
       "      <th>154</th>\n",
       "      <td>Anyone at #SXSW know if the apple store has ha...</td>\n",
       "      <td>NaN</td>\n",
       "      <td>No emotion toward brand or product</td>\n",
       "    </tr>\n",
       "    <tr>\n",
       "      <th>5742</th>\n",
       "      <td>RT @mention Free &amp;quot;Payments on the #Androi...</td>\n",
       "      <td>NaN</td>\n",
       "      <td>No emotion toward brand or product</td>\n",
       "    </tr>\n",
       "    <tr>\n",
       "      <th>1220</th>\n",
       "      <td>Listening to folks around the world making iPh...</td>\n",
       "      <td>NaN</td>\n",
       "      <td>No emotion toward brand or product</td>\n",
       "    </tr>\n",
       "  </tbody>\n",
       "</table>\n",
       "</div>"
      ],
      "text/plain": [
       "                                             tweet_text  \\\n",
       "221   Just took a survey on iPhone while in Starbuck...   \n",
       "7814  #blackberry users must feel like such losers h...   \n",
       "154   Anyone at #SXSW know if the apple store has ha...   \n",
       "5742  RT @mention Free &quot;Payments on the #Androi...   \n",
       "1220  Listening to folks around the world making iPh...   \n",
       "\n",
       "     emotion_in_tweet_is_directed_at                             emotion  \n",
       "221                              NaN  No emotion toward brand or product  \n",
       "7814                          iPhone                    Positive emotion  \n",
       "154                              NaN  No emotion toward brand or product  \n",
       "5742                             NaN  No emotion toward brand or product  \n",
       "1220                             NaN  No emotion toward brand or product  "
      ]
     },
     "execution_count": 2,
     "metadata": {},
     "output_type": "execute_result"
    }
   ],
   "source": [
    "df = pd.read_csv('judge-1377884607_tweet_product_company.csv')\n",
    "df = df.sample(frac=1)  # CHANGE ME TO ADJUST SIZE OF DATASET USED\n",
    "df['emotion'] = df['is_there_an_emotion_directed_at_a_brand_or_product']\n",
    "df = df.drop(columns=['is_there_an_emotion_directed_at_a_brand_or_product'])\n",
    "print(len(df))\n",
    "df.head()"
   ]
  },
  {
   "cell_type": "markdown",
   "id": "color-state",
   "metadata": {},
   "source": [
    "Now, let's transform the dataset\n",
    "\n",
    "In the cell below:\n",
    "\n",
    "Store the column that will be the target, 'category', in the variable target\n",
    "Use the 'tweet_text' column's .map() method to use the word_tokenize function on every piece of text\n",
    "Store the .values attribute from the newly tokenized 'tweet_text' column in the variable data"
   ]
  },
  {
   "cell_type": "code",
   "execution_count": 3,
   "id": "approximate-tsunami",
   "metadata": {},
   "outputs": [
    {
     "name": "stdout",
     "output_type": "stream",
     "text": [
      "<class 'pandas.core.frame.DataFrame'>\n",
      "Int64Index: 9092 entries, 221 to 2732\n",
      "Data columns (total 3 columns):\n",
      " #   Column                           Non-Null Count  Dtype \n",
      "---  ------                           --------------  ----- \n",
      " 0   tweet_text                       9092 non-null   object\n",
      " 1   emotion_in_tweet_is_directed_at  3291 non-null   object\n",
      " 2   emotion                          9092 non-null   object\n",
      "dtypes: object(3)\n",
      "memory usage: 284.1+ KB\n"
     ]
    }
   ],
   "source": [
    "df = df.dropna(subset=['emotion', 'tweet_text'])\n",
    "df.info()"
   ]
  },
  {
   "cell_type": "code",
   "execution_count": 4,
   "id": "acquired-automation",
   "metadata": {},
   "outputs": [],
   "source": [
    "target = df['emotion']\n",
    "data = df['tweet_text'].map(word_tokenize).values"
   ]
  },
  {
   "cell_type": "markdown",
   "id": "complex-communist",
   "metadata": {},
   "source": [
    "Loading A Pretrained GloVe Model\n",
    "\n",
    "\n",
    "For this project, I will be loading the pretrained weights from GloVe (short for Global Vectors for Word Representation ) from the Stanford NLP Group. \n",
    "\n",
    "These are commonly accepted as some of the best pre-trained word vectors available, and they're open source, so you can get them for free! Even the smallest file is still over 800 MB, so you'll you need to download this file manually.\n",
    "\n",
    "Note that there are several different sizes of pretrained word vectors available for download from the page linked above -- for the purposes of this lesson, you'll only need to use the smallest one, which still contains pretrained word vectors for over 6 billion words and phrases! To download this file, follow the link above and select the file called glove.6b.zip. For simplicity's sake, you can also start the download by clicking this link. You'll be using the GloVe file containing 50-dimensional word vectors for 6 billion words. Once you've downloaded the file, unzip it, and move the file glove.6B.50d.txt into the same directory as this Jupyter notebook.\n",
    "\n",
    "Since this is a 'proof of concept' project, I will just do the smaller glove to save time.\n",
    "\n",
    "Getting the Total Vocabulary\n",
    "Although the pretrained GloVe data contains vectors for 6 billion words and phrases, you don't need all of them. Instead, you only need the vectors for the words that appear in the dataset. If a word or phrase doesn't appear in the dataset, then there's no reason to waste memory storing the vector for that word or phrase.\n",
    "\n",
    "This means that you need to start by computing the total vocabulary of the dataset. You can do this by adding every word in the dataset into a Python set object. This is easy, since you've already tokenized each comment stored within data.\n",
    "\n",
    "In the cell below, add every token from every comment in data into a set, and store the set in the variable total_vocabulary."
   ]
  },
  {
   "cell_type": "code",
   "execution_count": 5,
   "id": "accomplished-state",
   "metadata": {},
   "outputs": [
    {
     "name": "stdout",
     "output_type": "stream",
     "text": [
      "There are 10665 unique words in the dataset.\n",
      "There are 9092 unique tweets in the dataset.\n"
     ]
    }
   ],
   "source": [
    "total_vocabulary = set(word.lower() for tweet in data for word in tweet)  # set created from nested comprehension \n",
    "print('There are {} unique words in the dataset.'.format(len(total_vocabulary)))\n",
    "print('There are {} unique tweets in the dataset.'.format(len(data)))\n"
   ]
  },
  {
   "cell_type": "markdown",
   "id": "framed-settlement",
   "metadata": {},
   "source": [
    "### Extract Glove vectors\n",
    "We will take only the relevant words that exist in our dataset and see how that works.\n",
    "\n",
    "For testing, we will only use 20% of the dataset.  Later, if we have the resources, we will up that number.  Its in the first lines of code in this ipynb."
   ]
  },
  {
   "cell_type": "code",
   "execution_count": 6,
   "id": "numerical-trinidad",
   "metadata": {},
   "outputs": [],
   "source": [
    "glove = {} # single dict to hold all of my words and vectors\n",
    "with open('glove.6B.200d.txt', 'rb') as f:\n",
    "    for line in f:\n",
    "        parts = line.split()  # go line by line and split to \n",
    "        word = parts[0].decode('utf-8')  # just pulls out the word, not the vectors\n",
    "        if word in total_vocabulary:\n",
    "            # if the word is in our dataset, we grab the vectors and put it in the glove dictionary\n",
    "            vector = np.array(parts[1:], dtype=np.float32)  # everything past the word is the vector\n",
    "            glove[word] = vector # add to dict"
   ]
  },
  {
   "cell_type": "markdown",
   "id": "blocked-disco",
   "metadata": {},
   "source": [
    "After running the cell above, you now have all of the words and their corresponding vocabulary stored within the dictionary, glove, as key/value pairs."
   ]
  },
  {
   "cell_type": "code",
   "execution_count": 7,
   "id": "hidden-theme",
   "metadata": {},
   "outputs": [
    {
     "name": "stdout",
     "output_type": "stream",
     "text": [
      "7950\n"
     ]
    },
    {
     "data": {
      "text/plain": [
       "array([-0.046234 ,  0.1143   , -0.91583  , -0.35001  , -0.91413  ,\n",
       "        0.085852 , -0.39536  , -0.10104  , -0.031425 ,  0.33068  ,\n",
       "       -0.041772 ,  0.29488  , -0.3805   ,  0.6783   ,  0.61183  ,\n",
       "        0.26603  , -0.15935  ,  0.62045  , -0.90269  , -0.060473 ,\n",
       "       -0.3597   ,  2.7318   ,  0.2225   ,  0.38525  ,  0.03795  ,\n",
       "       -0.68665  ,  0.69095  ,  0.47121  , -0.076372 , -0.4115   ,\n",
       "        0.2448   , -0.61099  ,  0.14878  ,  0.62008  , -0.41831  ,\n",
       "        0.13992  , -0.13323  ,  0.048472 , -0.2632   ,  0.035318 ,\n",
       "        0.1374   , -0.5543   , -0.18643  ,  0.77533  ,  0.54598  ,\n",
       "        0.30443  , -0.027521 ,  0.50806  ,  0.62423  , -0.38892  ,\n",
       "        0.25972  ,  0.10713  , -0.14908  ,  0.10443  , -0.081065 ,\n",
       "        0.38875  ,  0.076677 , -0.45081  , -0.31744  , -0.18866  ,\n",
       "       -0.12292  ,  0.071915 , -0.10685  , -0.080957 ,  0.15643  ,\n",
       "        0.3556   , -0.2945   ,  0.088302 ,  0.74486  , -0.23338  ,\n",
       "       -0.091855 ,  0.44214  ,  0.3208   ,  0.47211  ,  0.28721  ,\n",
       "        1.1608   ,  0.55774  ,  0.53997  , -0.30509  , -0.67614  ,\n",
       "       -0.40713  ,  0.22411  , -0.82891  ,  0.097029 , -0.48357  ,\n",
       "       -0.15316  ,  0.067873 , -0.065764 , -0.062316 ,  0.26085  ,\n",
       "       -0.25682  ,  0.4891   ,  0.82646  , -0.28588  ,  0.16366  ,\n",
       "       -0.26442  , -0.67846  ,  0.23559  ,  0.27403  , -0.12921  ,\n",
       "       -0.062113 ,  0.025216 , -0.28685  ,  0.42522  ,  0.18832  ,\n",
       "        0.98399  , -0.56795  ,  1.2745   , -0.48817  ,  0.46992  ,\n",
       "        0.42874  , -0.082395 ,  0.30006  ,  0.22774  ,  0.43273  ,\n",
       "        0.017371 ,  0.092202 ,  0.25909  , -0.35875  , -0.51883  ,\n",
       "        0.20242  , -0.05803  ,  0.41946  , -0.24312  , -0.10708  ,\n",
       "       -0.80128  ,  0.19682  , -0.19543  ,  0.6547   ,  0.12323  ,\n",
       "       -0.32583  , -0.43842  ,  0.20505  , -0.54866  , -0.37439  ,\n",
       "        0.056119 ,  0.26851  ,  0.36363  , -0.25251  , -0.082359 ,\n",
       "       -0.20601  ,  0.21507  ,  0.14822  , -0.27392  ,  0.69821  ,\n",
       "       -0.1892   ,  0.64492  , -0.34958  ,  0.76385  ,  0.3366   ,\n",
       "       -0.078346 , -0.45069  ,  0.19429  , -0.056201 , -0.36269  ,\n",
       "        0.062878 ,  0.66848  ,  0.2602   , -0.2274   ,  0.19366  ,\n",
       "        0.22206  ,  0.34864  , -0.10071  ,  0.012262 , -0.24788  ,\n",
       "       -0.31372  , -0.36867  ,  0.11208  , -0.47637  , -0.27674  ,\n",
       "       -0.09348  ,  0.28223  ,  0.10644  , -0.41162  , -0.14354  ,\n",
       "        0.42186  , -0.0070552,  0.88066  , -0.20152  ,  0.078382 ,\n",
       "        1.1661   ,  0.42525  ,  0.07135  ,  0.10423  , -0.5856   ,\n",
       "       -0.3514   ,  0.36812  ,  0.93485  ,  0.48994  ,  0.49828  ,\n",
       "       -0.19452  , -1.196    , -0.28385  ,  0.24249  ,  0.58718  ,\n",
       "       -0.41428  ,  0.43804  ,  0.076073 ,  0.16939  ,  0.10746  ],\n",
       "      dtype=float32)"
      ]
     },
     "execution_count": 7,
     "metadata": {},
     "output_type": "execute_result"
    }
   ],
   "source": [
    "print(len(glove))  # not as many words as above, but maybe some hashtags or misspellings etc not in set (check later)\n",
    "glove['worst'] # quick check.  I would assume worst will be in there when using reviews"
   ]
  },
  {
   "cell_type": "markdown",
   "id": "sought-drain",
   "metadata": {},
   "source": [
    "### Create Mean Word Embeddings\n",
    "\n",
    "For this step, we will set up pipelines from scikit-learn. Using pipelines will save us time and make the code a bit cleaner."
   ]
  },
  {
   "cell_type": "code",
   "execution_count": 8,
   "id": "decent-sydney",
   "metadata": {},
   "outputs": [],
   "source": [
    "class W2vVectorizer(object):\n",
    "    '''\n",
    "    word vector object that we can use in pipeline\n",
    "    '''\n",
    "    def __init__(self, w2v):\n",
    "        # Takes in a dictionary of words and vectors as input\n",
    "        self.w2v = w2v\n",
    "        if len(w2v) == 0:\n",
    "            self.dimensions = 0\n",
    "        else:\n",
    "            self.dimensions = len(w2v[next(iter(glove))])\n",
    "    \n",
    "    # Note: Even though it doesn't do anything, it's required that this object implement a fit method or else\n",
    "    # it can't be used in a scikit-learn pipeline  \n",
    "    def fit(self, X, y):\n",
    "        return self\n",
    "            \n",
    "    def transform(self, X):\n",
    "        return np.array([\n",
    "            np.mean([self.w2v[w] for w in words if w in self.w2v]\n",
    "                   or [np.zeros(self.dimensions)], axis=0) for words in X])"
   ]
  },
  {
   "cell_type": "markdown",
   "id": "shaped-blame",
   "metadata": {},
   "source": [
    "## Pipelines\n",
    "\n",
    "Since we created a mean vectorizer class, you can pass this in as the first step in the pipeline, and then follow it up with the model you'll feed the data into for classification.\n",
    "\n",
    "Run the cell below to create pipeline objects that make use of the mean embedding vectorizer that was built above."
   ]
  },
  {
   "cell_type": "code",
   "execution_count": 9,
   "id": "random-delhi",
   "metadata": {},
   "outputs": [],
   "source": [
    "from sklearn.ensemble import RandomForestClassifier\n",
    "from sklearn.svm import SVC\n",
    "from sklearn.linear_model import LogisticRegression\n",
    "from sklearn.pipeline import Pipeline\n",
    "from sklearn.model_selection import cross_val_score\n",
    "\n",
    "rf =  Pipeline([('Word2Vec Vectorizer', W2vVectorizer(glove)),\n",
    "              ('Random Forest', RandomForestClassifier(n_estimators=100, verbose=True))])\n",
    "svc = Pipeline([('Word2Vec Vectorizer', W2vVectorizer(glove)),\n",
    "                ('Support Vector Machine', SVC())])\n",
    "lr = Pipeline([('Word2Vec Vectorizer', W2vVectorizer(glove)),\n",
    "              ('Logistic Regression', LogisticRegression())])"
   ]
  },
  {
   "cell_type": "markdown",
   "id": "responsible-running",
   "metadata": {},
   "source": [
    "Now, we create a list that contains a tuple for each pipeline, where the first item in the tuple is a name, and the second item in the list is the actual pipeline object."
   ]
  },
  {
   "cell_type": "code",
   "execution_count": 10,
   "id": "measured-catalyst",
   "metadata": {},
   "outputs": [],
   "source": [
    "models = [('Random Forest', rf),\n",
    "          ('Support Vector Machine', svc),\n",
    "          ('Logistic Regression', lr)]"
   ]
  },
  {
   "cell_type": "markdown",
   "id": "detailed-harvest",
   "metadata": {},
   "source": [
    "Use the list created above, and cross_val_score() function from scikit-learn to train all the models, and store their cross validation scores in an array."
   ]
  },
  {
   "cell_type": "code",
   "execution_count": 11,
   "id": "hazardous-school",
   "metadata": {},
   "outputs": [
    {
     "name": "stderr",
     "output_type": "stream",
     "text": [
      "[Parallel(n_jobs=1)]: Using backend SequentialBackend with 1 concurrent workers.\n",
      "[Parallel(n_jobs=1)]: Done 100 out of 100 | elapsed:    5.2s finished\n",
      "[Parallel(n_jobs=1)]: Using backend SequentialBackend with 1 concurrent workers.\n",
      "[Parallel(n_jobs=1)]: Done 100 out of 100 | elapsed:    0.1s finished\n",
      "[Parallel(n_jobs=1)]: Using backend SequentialBackend with 1 concurrent workers.\n",
      "[Parallel(n_jobs=1)]: Done 100 out of 100 | elapsed:    5.1s finished\n",
      "[Parallel(n_jobs=1)]: Using backend SequentialBackend with 1 concurrent workers.\n",
      "[Parallel(n_jobs=1)]: Done 100 out of 100 | elapsed:    0.1s finished\n",
      "/Users/aaronlee/opt/anaconda3/lib/python3.7/site-packages/sklearn/linear_model/_logistic.py:765: ConvergenceWarning: lbfgs failed to converge (status=1):\n",
      "STOP: TOTAL NO. of ITERATIONS REACHED LIMIT.\n",
      "\n",
      "Increase the number of iterations (max_iter) or scale the data as shown in:\n",
      "    https://scikit-learn.org/stable/modules/preprocessing.html\n",
      "Please also refer to the documentation for alternative solver options:\n",
      "    https://scikit-learn.org/stable/modules/linear_model.html#logistic-regression\n",
      "  extra_warning_msg=_LOGISTIC_SOLVER_CONVERGENCE_MSG)\n",
      "/Users/aaronlee/opt/anaconda3/lib/python3.7/site-packages/sklearn/linear_model/_logistic.py:765: ConvergenceWarning: lbfgs failed to converge (status=1):\n",
      "STOP: TOTAL NO. of ITERATIONS REACHED LIMIT.\n",
      "\n",
      "Increase the number of iterations (max_iter) or scale the data as shown in:\n",
      "    https://scikit-learn.org/stable/modules/preprocessing.html\n",
      "Please also refer to the documentation for alternative solver options:\n",
      "    https://scikit-learn.org/stable/modules/linear_model.html#logistic-regression\n",
      "  extra_warning_msg=_LOGISTIC_SOLVER_CONVERGENCE_MSG)\n"
     ]
    }
   ],
   "source": [
    "#  This cell may take a while to run depending on set size\n",
    "scores = [(name, cross_val_score(model, data, target, cv=2).mean()) for name, model, in models]"
   ]
  },
  {
   "cell_type": "code",
   "execution_count": 12,
   "id": "stock-duncan",
   "metadata": {},
   "outputs": [
    {
     "name": "stdout",
     "output_type": "stream",
     "text": [
      "[('Random Forest', 0.6221953365596129), ('Support Vector Machine', 0.615706115266168), ('Logistic Regression', 0.6254949406071271)]\n"
     ]
    },
    {
     "data": {
      "text/plain": [
       "array(['No emotion toward brand or product', 'Positive emotion',\n",
       "       'Negative emotion', \"I can't tell\"], dtype=object)"
      ]
     },
     "execution_count": 12,
     "metadata": {},
     "output_type": "execute_result"
    }
   ],
   "source": [
    "print(scores)\n",
    "df.emotion.unique()"
   ]
  },
  {
   "cell_type": "markdown",
   "id": "requested-lottery",
   "metadata": {},
   "source": [
    "These scores are pretty good.  There are 4 categories, so unweighted random would be 0.25.  We got around 0.60 with only 20% of the dataset"
   ]
  },
  {
   "cell_type": "markdown",
   "id": "circular-hawaii",
   "metadata": {},
   "source": [
    "# Deep Learning\n",
    "We used untuned supervised ML above.  Now let's try out the RNN method (the reason I wanted to do this project)."
   ]
  },
  {
   "cell_type": "code",
   "execution_count": 13,
   "id": "automated-wallet",
   "metadata": {},
   "outputs": [],
   "source": [
    "from keras.preprocessing.sequence import pad_sequences\n",
    "from keras.layers import Input, Dense, LSTM, Embedding\n",
    "from keras.layers import Dropout, Activation, Bidirectional, GlobalMaxPool1D\n",
    "from keras.models import Sequential\n",
    "from keras import initializers, regularizers, constraints, optimizers, layers\n",
    "from keras.preprocessing import text, sequence"
   ]
  },
  {
   "cell_type": "markdown",
   "id": "handled-component",
   "metadata": {},
   "source": [
    "One-hot encode the labels."
   ]
  },
  {
   "cell_type": "code",
   "execution_count": 14,
   "id": "geological-attribute",
   "metadata": {},
   "outputs": [],
   "source": [
    "y = pd.get_dummies(target).values"
   ]
  },
  {
   "cell_type": "markdown",
   "id": "other-munich",
   "metadata": {},
   "source": [
    "Now, you'll preprocess the tweet_text data. Use Keras' preprocessing tools to tokenize each example, convert them to sequences, and then pad the sequences so they're all the same length."
   ]
  },
  {
   "cell_type": "code",
   "execution_count": 15,
   "id": "clean-stocks",
   "metadata": {},
   "outputs": [],
   "source": [
    "tokenizer = text.Tokenizer(num_words=20000)  # limit to the num_words most important ones\n",
    "tokenizer.fit_on_texts(list(df['tweet_text']))\n",
    "list_tokenized_headlines = tokenizer.texts_to_sequences(df['tweet_text'])\n",
    "X_t = sequence.pad_sequences(list_tokenized_headlines, maxlen=100)"
   ]
  },
  {
   "cell_type": "markdown",
   "id": "saving-exclusive",
   "metadata": {},
   "source": [
    "## Split my data"
   ]
  },
  {
   "cell_type": "code",
   "execution_count": 16,
   "id": "internal-browser",
   "metadata": {},
   "outputs": [],
   "source": [
    "X_train, X_test, y_train, y_test = train_test_split(X_t, y, test_size=0.2)"
   ]
  },
  {
   "cell_type": "markdown",
   "id": "diverse-refund",
   "metadata": {},
   "source": [
    "Construct the neural network. In the embedding layer, specify the size you want the word vectors to be, as well as the size of the embedding space itself. The embedding size will be 128, and the size of the embedding space is best as the size of the total vocabulary that we're using.\n",
    "\n",
    "Once the data has passed through an embedding layer, you feed this data into an LSTM layer, followed by a Dense layer, followed by output layer. You also add some Dropout layers after each of these layers, to help fight overfitting.\n",
    "\n",
    "Our output layer is a Dense layer with 4 neurons, which corresponds to the 4 possible classes in the labels. You set the activation function for this output layer to 'softmax', so that the network will output a vector of predictions, where each element's value corresponds to the percentage chance that the example is the class that corresponds to that element, and where the sum of all elements in the output vector is 1."
   ]
  },
  {
   "cell_type": "code",
   "execution_count": 17,
   "id": "original-apple",
   "metadata": {},
   "outputs": [],
   "source": [
    "model = Sequential()"
   ]
  },
  {
   "cell_type": "code",
   "execution_count": 18,
   "id": "floppy-silver",
   "metadata": {},
   "outputs": [],
   "source": [
    "embedding_size = 128\n",
    "model.add(Embedding(len(total_vocabulary), embedding_size))\n",
    "model.add(LSTM(25, return_sequences=True))\n",
    "model.add(GlobalMaxPool1D())\n",
    "model.add(Dropout(0.5))\n",
    "model.add(Dense(50, activation='relu'))\n",
    "model.add(Dropout(0.5))\n",
    "model.add(Dense(50, activation='relu'))\n",
    "model.add(Dropout(0.5))\n",
    "model.add(Dense(4, activation='softmax'))  # use 4 because we have 4 categories"
   ]
  },
  {
   "cell_type": "markdown",
   "id": "after-tunnel",
   "metadata": {},
   "source": [
    "Now compile model, and provide important parameters such as the loss function to use ('categorical_crossentropy', since this is a multiclass classification problem), and the optimizer to use.\n",
    "\n"
   ]
  },
  {
   "cell_type": "code",
   "execution_count": 19,
   "id": "conscious-japanese",
   "metadata": {},
   "outputs": [],
   "source": [
    "model.compile(loss='categorical_crossentropy', \n",
    "              optimizer='adam', \n",
    "              metrics=['accuracy'])"
   ]
  },
  {
   "cell_type": "markdown",
   "id": "wireless-endorsement",
   "metadata": {},
   "source": [
    "After compiling the model, you quickly check the summary of the model to see what the model looks like, and make sure the output shapes line up with what you expect.\n",
    "\n"
   ]
  },
  {
   "cell_type": "code",
   "execution_count": 20,
   "id": "metric-emperor",
   "metadata": {},
   "outputs": [
    {
     "name": "stdout",
     "output_type": "stream",
     "text": [
      "Model: \"sequential\"\n",
      "_________________________________________________________________\n",
      "Layer (type)                 Output Shape              Param #   \n",
      "=================================================================\n",
      "embedding (Embedding)        (None, None, 128)         1365120   \n",
      "_________________________________________________________________\n",
      "lstm (LSTM)                  (None, None, 25)          15400     \n",
      "_________________________________________________________________\n",
      "global_max_pooling1d (Global (None, 25)                0         \n",
      "_________________________________________________________________\n",
      "dropout (Dropout)            (None, 25)                0         \n",
      "_________________________________________________________________\n",
      "dense (Dense)                (None, 50)                1300      \n",
      "_________________________________________________________________\n",
      "dropout_1 (Dropout)          (None, 50)                0         \n",
      "_________________________________________________________________\n",
      "dense_1 (Dense)              (None, 50)                2550      \n",
      "_________________________________________________________________\n",
      "dropout_2 (Dropout)          (None, 50)                0         \n",
      "_________________________________________________________________\n",
      "dense_2 (Dense)              (None, 4)                 204       \n",
      "=================================================================\n",
      "Total params: 1,384,574\n",
      "Trainable params: 1,384,574\n",
      "Non-trainable params: 0\n",
      "_________________________________________________________________\n"
     ]
    }
   ],
   "source": [
    "model.summary()\n"
   ]
  },
  {
   "cell_type": "markdown",
   "id": "elegant-genetics",
   "metadata": {},
   "source": [
    "Finally, you can fit the model by passing in the data, the labels, and setting some other hyperparameters such as the batch size, the number of epochs to train for, and what percentage of the training data to use for validation data.\n",
    "\n",
    "Run the cell below and adjust the epochs as needed for time. T|raining will take some time!"
   ]
  },
  {
   "cell_type": "code",
   "execution_count": 21,
   "id": "better-workplace",
   "metadata": {},
   "outputs": [
    {
     "name": "stdout",
     "output_type": "stream",
     "text": [
      "7273 7273\n"
     ]
    }
   ],
   "source": [
    "print(len(X_train), len(y_train))"
   ]
  },
  {
   "cell_type": "code",
   "execution_count": 22,
   "id": "loose-attempt",
   "metadata": {},
   "outputs": [
    {
     "name": "stdout",
     "output_type": "stream",
     "text": [
      "Epoch 1/10\n",
      "256/256 [==============================] - 24s 83ms/step - loss: 1.0823 - accuracy: 0.5339 - val_loss: 0.8919 - val_accuracy: 0.5989\n",
      "Epoch 2/10\n",
      "256/256 [==============================] - 16s 64ms/step - loss: 0.9216 - accuracy: 0.5880 - val_loss: 0.8401 - val_accuracy: 0.6297\n",
      "Epoch 3/10\n",
      "256/256 [==============================] - 17s 66ms/step - loss: 0.8005 - accuracy: 0.6520 - val_loss: 0.8173 - val_accuracy: 0.6692\n",
      "Epoch 4/10\n",
      "256/256 [==============================] - 17s 65ms/step - loss: 0.7030 - accuracy: 0.7305 - val_loss: 0.8603 - val_accuracy: 0.6670\n",
      "Epoch 5/10\n",
      "256/256 [==============================] - 17s 65ms/step - loss: 0.5818 - accuracy: 0.7751 - val_loss: 0.9293 - val_accuracy: 0.6538\n",
      "Epoch 6/10\n",
      "256/256 [==============================] - 17s 66ms/step - loss: 0.4976 - accuracy: 0.8029 - val_loss: 1.0766 - val_accuracy: 0.6703\n",
      "Epoch 7/10\n",
      "256/256 [==============================] - 16s 61ms/step - loss: 0.4380 - accuracy: 0.8357 - val_loss: 1.1627 - val_accuracy: 0.6637\n",
      "Epoch 8/10\n",
      "256/256 [==============================] - 18s 70ms/step - loss: 0.3722 - accuracy: 0.8619 - val_loss: 1.3075 - val_accuracy: 0.6659\n",
      "Epoch 9/10\n",
      "256/256 [==============================] - 17s 65ms/step - loss: 0.3507 - accuracy: 0.8744 - val_loss: 1.4971 - val_accuracy: 0.6714\n",
      "Epoch 10/10\n",
      "256/256 [==============================] - 16s 64ms/step - loss: 0.3186 - accuracy: 0.8830 - val_loss: 1.6772 - val_accuracy: 0.6725\n"
     ]
    },
    {
     "data": {
      "text/plain": [
       "<tensorflow.python.keras.callbacks.History at 0x7fd6cab4d910>"
      ]
     },
     "execution_count": 22,
     "metadata": {},
     "output_type": "execute_result"
    }
   ],
   "source": [
    "# ⏰ This cell may take several minutes to run\n",
    "model.fit(X_t, y, epochs=10, batch_size=32, validation_split=0.1)"
   ]
  },
  {
   "cell_type": "markdown",
   "id": "missing-corrections",
   "metadata": {},
   "source": [
    "# Evalute the results"
   ]
  },
  {
   "cell_type": "code",
   "execution_count": 23,
   "id": "nasty-burton",
   "metadata": {},
   "outputs": [
    {
     "data": {
      "text/plain": [
       "array([[0, 0, 1, 0],\n",
       "       [0, 0, 1, 0],\n",
       "       [0, 0, 1, 0],\n",
       "       ...,\n",
       "       [0, 0, 1, 0],\n",
       "       [0, 0, 0, 1],\n",
       "       [0, 0, 0, 1]], dtype=uint8)"
      ]
     },
     "execution_count": 23,
     "metadata": {},
     "output_type": "execute_result"
    }
   ],
   "source": [
    "y_test"
   ]
  },
  {
   "cell_type": "code",
   "execution_count": 24,
   "id": "piano-sunday",
   "metadata": {},
   "outputs": [
    {
     "data": {
      "text/html": [
       "<div>\n",
       "<style scoped>\n",
       "    .dataframe tbody tr th:only-of-type {\n",
       "        vertical-align: middle;\n",
       "    }\n",
       "\n",
       "    .dataframe tbody tr th {\n",
       "        vertical-align: top;\n",
       "    }\n",
       "\n",
       "    .dataframe thead th {\n",
       "        text-align: right;\n",
       "    }\n",
       "</style>\n",
       "<table border=\"1\" class=\"dataframe\">\n",
       "  <thead>\n",
       "    <tr style=\"text-align: right;\">\n",
       "      <th></th>\n",
       "      <th>0</th>\n",
       "      <th>1</th>\n",
       "      <th>2</th>\n",
       "      <th>3</th>\n",
       "    </tr>\n",
       "  </thead>\n",
       "  <tbody>\n",
       "    <tr>\n",
       "      <th>0</th>\n",
       "      <td>0.0</td>\n",
       "      <td>0.0</td>\n",
       "      <td>1.0</td>\n",
       "      <td>0.0</td>\n",
       "    </tr>\n",
       "    <tr>\n",
       "      <th>1</th>\n",
       "      <td>0.0</td>\n",
       "      <td>0.0</td>\n",
       "      <td>1.0</td>\n",
       "      <td>0.0</td>\n",
       "    </tr>\n",
       "    <tr>\n",
       "      <th>2</th>\n",
       "      <td>0.0</td>\n",
       "      <td>0.0</td>\n",
       "      <td>1.0</td>\n",
       "      <td>0.0</td>\n",
       "    </tr>\n",
       "    <tr>\n",
       "      <th>3</th>\n",
       "      <td>0.0</td>\n",
       "      <td>0.0</td>\n",
       "      <td>0.0</td>\n",
       "      <td>1.0</td>\n",
       "    </tr>\n",
       "    <tr>\n",
       "      <th>4</th>\n",
       "      <td>0.0</td>\n",
       "      <td>0.0</td>\n",
       "      <td>1.0</td>\n",
       "      <td>0.0</td>\n",
       "    </tr>\n",
       "    <tr>\n",
       "      <th>...</th>\n",
       "      <td>...</td>\n",
       "      <td>...</td>\n",
       "      <td>...</td>\n",
       "      <td>...</td>\n",
       "    </tr>\n",
       "    <tr>\n",
       "      <th>1814</th>\n",
       "      <td>0.0</td>\n",
       "      <td>0.0</td>\n",
       "      <td>0.0</td>\n",
       "      <td>1.0</td>\n",
       "    </tr>\n",
       "    <tr>\n",
       "      <th>1815</th>\n",
       "      <td>0.0</td>\n",
       "      <td>0.0</td>\n",
       "      <td>0.0</td>\n",
       "      <td>1.0</td>\n",
       "    </tr>\n",
       "    <tr>\n",
       "      <th>1816</th>\n",
       "      <td>0.0</td>\n",
       "      <td>0.0</td>\n",
       "      <td>1.0</td>\n",
       "      <td>0.0</td>\n",
       "    </tr>\n",
       "    <tr>\n",
       "      <th>1817</th>\n",
       "      <td>0.0</td>\n",
       "      <td>0.0</td>\n",
       "      <td>0.0</td>\n",
       "      <td>1.0</td>\n",
       "    </tr>\n",
       "    <tr>\n",
       "      <th>1818</th>\n",
       "      <td>0.0</td>\n",
       "      <td>0.0</td>\n",
       "      <td>0.0</td>\n",
       "      <td>1.0</td>\n",
       "    </tr>\n",
       "  </tbody>\n",
       "</table>\n",
       "<p>1819 rows × 4 columns</p>\n",
       "</div>"
      ],
      "text/plain": [
       "        0    1    2    3\n",
       "0     0.0  0.0  1.0  0.0\n",
       "1     0.0  0.0  1.0  0.0\n",
       "2     0.0  0.0  1.0  0.0\n",
       "3     0.0  0.0  0.0  1.0\n",
       "4     0.0  0.0  1.0  0.0\n",
       "...   ...  ...  ...  ...\n",
       "1814  0.0  0.0  0.0  1.0\n",
       "1815  0.0  0.0  0.0  1.0\n",
       "1816  0.0  0.0  1.0  0.0\n",
       "1817  0.0  0.0  0.0  1.0\n",
       "1818  0.0  0.0  0.0  1.0\n",
       "\n",
       "[1819 rows x 4 columns]"
      ]
     },
     "execution_count": 24,
     "metadata": {},
     "output_type": "execute_result"
    }
   ],
   "source": [
    "def prediction(array, outcomes):\n",
    "    index = np.argmax(array)\n",
    "    array *= 0\n",
    "    array[index] = 1\n",
    "    return array\n",
    "    \n",
    "\n",
    "outcomes = df['emotion'].unique()\n",
    "y_pred = model.predict(X_test)\n",
    "y_pred = pd.DataFrame(y_pred).apply(lambda x: prediction(x, outcomes), axis=1)\n",
    "\n",
    "#outcomes\n",
    "y_pred"
   ]
  },
  {
   "cell_type": "code",
   "execution_count": 25,
   "id": "measured-franchise",
   "metadata": {},
   "outputs": [
    {
     "name": "stdout",
     "output_type": "stream",
     "text": [
      "0    1    2    3  \n",
      "0.0  0.0  1.0  0.0    1113\n",
      "          0.0  1.0     557\n",
      "     1.0  0.0  0.0     149\n",
      "dtype: int64\n",
      "No emotion toward brand or product    5388\n",
      "Positive emotion                      2978\n",
      "Negative emotion                       570\n",
      "I can't tell                           156\n",
      "Name: emotion, dtype: int64\n"
     ]
    }
   ],
   "source": [
    "print(y_pred.value_counts())  \n",
    "print(df['emotion'].value_counts())"
   ]
  },
  {
   "cell_type": "code",
   "execution_count": 26,
   "id": "simplified-indication",
   "metadata": {},
   "outputs": [],
   "source": [
    "y_test_ = pd.DataFrame(y_test).apply(lambda x: prediction(x, outcomes), axis=1)"
   ]
  },
  {
   "cell_type": "code",
   "execution_count": 27,
   "id": "timely-expansion",
   "metadata": {},
   "outputs": [
    {
     "name": "stdout",
     "output_type": "stream",
     "text": [
      "(1819, 4) (1819, 4)\n",
      "(1819, 100) (1819, 4)\n"
     ]
    }
   ],
   "source": [
    "print(y_test.shape, y_pred.shape)\n",
    "print(X_test.shape, y_test_.shape)"
   ]
  },
  {
   "cell_type": "code",
   "execution_count": 28,
   "id": "excellent-growth",
   "metadata": {},
   "outputs": [
    {
     "data": {
      "text/html": [
       "<div>\n",
       "<style scoped>\n",
       "    .dataframe tbody tr th:only-of-type {\n",
       "        vertical-align: middle;\n",
       "    }\n",
       "\n",
       "    .dataframe tbody tr th {\n",
       "        vertical-align: top;\n",
       "    }\n",
       "\n",
       "    .dataframe thead th {\n",
       "        text-align: right;\n",
       "    }\n",
       "</style>\n",
       "<table border=\"1\" class=\"dataframe\">\n",
       "  <thead>\n",
       "    <tr style=\"text-align: right;\">\n",
       "      <th></th>\n",
       "      <th>0</th>\n",
       "      <th>1</th>\n",
       "      <th>2</th>\n",
       "      <th>3</th>\n",
       "    </tr>\n",
       "  </thead>\n",
       "  <tbody>\n",
       "    <tr>\n",
       "      <th>0</th>\n",
       "      <td>0</td>\n",
       "      <td>0</td>\n",
       "      <td>1</td>\n",
       "      <td>0</td>\n",
       "    </tr>\n",
       "    <tr>\n",
       "      <th>1</th>\n",
       "      <td>0</td>\n",
       "      <td>0</td>\n",
       "      <td>1</td>\n",
       "      <td>0</td>\n",
       "    </tr>\n",
       "    <tr>\n",
       "      <th>2</th>\n",
       "      <td>0</td>\n",
       "      <td>0</td>\n",
       "      <td>1</td>\n",
       "      <td>0</td>\n",
       "    </tr>\n",
       "    <tr>\n",
       "      <th>3</th>\n",
       "      <td>0</td>\n",
       "      <td>0</td>\n",
       "      <td>0</td>\n",
       "      <td>1</td>\n",
       "    </tr>\n",
       "    <tr>\n",
       "      <th>4</th>\n",
       "      <td>0</td>\n",
       "      <td>0</td>\n",
       "      <td>1</td>\n",
       "      <td>0</td>\n",
       "    </tr>\n",
       "    <tr>\n",
       "      <th>...</th>\n",
       "      <td>...</td>\n",
       "      <td>...</td>\n",
       "      <td>...</td>\n",
       "      <td>...</td>\n",
       "    </tr>\n",
       "    <tr>\n",
       "      <th>1814</th>\n",
       "      <td>0</td>\n",
       "      <td>0</td>\n",
       "      <td>0</td>\n",
       "      <td>1</td>\n",
       "    </tr>\n",
       "    <tr>\n",
       "      <th>1815</th>\n",
       "      <td>0</td>\n",
       "      <td>0</td>\n",
       "      <td>0</td>\n",
       "      <td>1</td>\n",
       "    </tr>\n",
       "    <tr>\n",
       "      <th>1816</th>\n",
       "      <td>0</td>\n",
       "      <td>0</td>\n",
       "      <td>1</td>\n",
       "      <td>0</td>\n",
       "    </tr>\n",
       "    <tr>\n",
       "      <th>1817</th>\n",
       "      <td>0</td>\n",
       "      <td>0</td>\n",
       "      <td>0</td>\n",
       "      <td>1</td>\n",
       "    </tr>\n",
       "    <tr>\n",
       "      <th>1818</th>\n",
       "      <td>0</td>\n",
       "      <td>0</td>\n",
       "      <td>0</td>\n",
       "      <td>1</td>\n",
       "    </tr>\n",
       "  </tbody>\n",
       "</table>\n",
       "<p>1819 rows × 4 columns</p>\n",
       "</div>"
      ],
      "text/plain": [
       "      0  1  2  3\n",
       "0     0  0  1  0\n",
       "1     0  0  1  0\n",
       "2     0  0  1  0\n",
       "3     0  0  0  1\n",
       "4     0  0  1  0\n",
       "...  .. .. .. ..\n",
       "1814  0  0  0  1\n",
       "1815  0  0  0  1\n",
       "1816  0  0  1  0\n",
       "1817  0  0  0  1\n",
       "1818  0  0  0  1\n",
       "\n",
       "[1819 rows x 4 columns]"
      ]
     },
     "execution_count": 28,
     "metadata": {},
     "output_type": "execute_result"
    }
   ],
   "source": [
    "y_test_"
   ]
  },
  {
   "cell_type": "code",
   "execution_count": 29,
   "id": "reasonable-teaching",
   "metadata": {},
   "outputs": [],
   "source": [
    "y_test_ = y_test_.to_numpy()\n",
    "\n",
    "cm = confusion_matrix(y_test_.argmax(axis=1), y_pred.values.argmax(axis=1))"
   ]
  },
  {
   "cell_type": "code",
   "execution_count": 30,
   "id": "theoretical-retreat",
   "metadata": {},
   "outputs": [
    {
     "data": {
      "text/plain": [
       "No emotion toward brand or product    5388\n",
       "Positive emotion                      2978\n",
       "Negative emotion                       570\n",
       "I can't tell                           156\n",
       "Name: emotion, dtype: int64"
      ]
     },
     "execution_count": 30,
     "metadata": {},
     "output_type": "execute_result"
    }
   ],
   "source": [
    "df['emotion'].value_counts()"
   ]
  },
  {
   "cell_type": "code",
   "execution_count": 31,
   "id": "golden-opening",
   "metadata": {},
   "outputs": [
    {
     "data": {
      "image/png": "[encoded data removed]",
      "text/plain": [
       "<Figure size 720x504 with 2 Axes>"
      ]
     },
     "metadata": {
      "needs_background": "light"
     },
     "output_type": "display_data"
    }
   ],
   "source": [
    "import seaborn as sn\n",
    "import matplotlib.pyplot as plt\n",
    "\n",
    "outcomes = [ \"Can't tell\", 'Neg emotion', 'Pos emotion', 'No emotion']\n",
    "x_axis_labels = outcomes\n",
    "y_axis_labels = outcomes\n",
    "\n",
    "plt.figure(figsize = (10,7))\n",
    "sn.heatmap(cm, annot=True, cmap=\"Blues\",  xticklabels=x_axis_labels, yticklabels=y_axis_labels)\n",
    "plt.xlabel('Prediciton')\n",
    "plt.ylabel('Actual')\n",
    "plt.savefig('confusion_matrix.png')"
   ]
  },
  {
   "cell_type": "markdown",
   "id": "northern-alexandria",
   "metadata": {},
   "source": [
    "## How did we do?\n",
    "\n"
   ]
  },
  {
   "cell_type": "code",
   "execution_count": 32,
   "id": "purple-beach",
   "metadata": {},
   "outputs": [
    {
     "data": {
      "text/plain": [
       "No emotion toward brand or product    5388\n",
       "Positive emotion                      2978\n",
       "Negative emotion                       570\n",
       "I can't tell                           156\n",
       "Name: emotion, dtype: int64"
      ]
     },
     "execution_count": 32,
     "metadata": {},
     "output_type": "execute_result"
    }
   ],
   "source": [
    "target.value_counts()"
   ]
  },
  {
   "cell_type": "code",
   "execution_count": 33,
   "id": "quarterly-duration",
   "metadata": {},
   "outputs": [
    {
     "data": {
      "text/html": [
       "<div>\n",
       "<style scoped>\n",
       "    .dataframe tbody tr th:only-of-type {\n",
       "        vertical-align: middle;\n",
       "    }\n",
       "\n",
       "    .dataframe tbody tr th {\n",
       "        vertical-align: top;\n",
       "    }\n",
       "\n",
       "    .dataframe thead th {\n",
       "        text-align: right;\n",
       "    }\n",
       "</style>\n",
       "<table border=\"1\" class=\"dataframe\">\n",
       "  <thead>\n",
       "    <tr style=\"text-align: right;\">\n",
       "      <th></th>\n",
       "      <th>Can't tell</th>\n",
       "      <th>Neg emotion</th>\n",
       "      <th>No emotion</th>\n",
       "      <th>Pos emotion</th>\n",
       "    </tr>\n",
       "  </thead>\n",
       "  <tbody>\n",
       "    <tr>\n",
       "      <th>precision</th>\n",
       "      <td>1.0</td>\n",
       "      <td>0.644295</td>\n",
       "      <td>0.892183</td>\n",
       "      <td>0.910233</td>\n",
       "    </tr>\n",
       "    <tr>\n",
       "      <th>recall</th>\n",
       "      <td>0.0</td>\n",
       "      <td>0.888889</td>\n",
       "      <td>0.935028</td>\n",
       "      <td>0.817742</td>\n",
       "    </tr>\n",
       "    <tr>\n",
       "      <th>fscore</th>\n",
       "      <td>0.0</td>\n",
       "      <td>0.747082</td>\n",
       "      <td>0.913103</td>\n",
       "      <td>0.861512</td>\n",
       "    </tr>\n",
       "    <tr>\n",
       "      <th>n_occurrances</th>\n",
       "      <td>29.0</td>\n",
       "      <td>108.000000</td>\n",
       "      <td>1062.000000</td>\n",
       "      <td>620.000000</td>\n",
       "    </tr>\n",
       "  </tbody>\n",
       "</table>\n",
       "</div>"
      ],
      "text/plain": [
       "               Can't tell  Neg emotion   No emotion  Pos emotion\n",
       "precision             1.0     0.644295     0.892183     0.910233\n",
       "recall                0.0     0.888889     0.935028     0.817742\n",
       "fscore                0.0     0.747082     0.913103     0.861512\n",
       "n_occurrances        29.0   108.000000  1062.000000   620.000000"
      ]
     },
     "execution_count": 33,
     "metadata": {},
     "output_type": "execute_result"
    }
   ],
   "source": [
    "from sklearn.metrics import precision_recall_fscore_support\n",
    "\n",
    "results = precision_recall_fscore_support(y_test_, y_pred, zero_division=True)\n",
    "\n",
    "metrics = ['precision', 'recall', 'fscore', 'n_occurrances']\n",
    "outcomes = [ \"Can't tell\", 'Neg emotion', 'No emotion', 'Pos emotion']\n",
    "\n",
    "\n",
    "results_df = pd.DataFrame(results, columns=outcomes, index=metrics)\n",
    "results_df\n"
   ]
  },
  {
   "cell_type": "code",
   "execution_count": null,
   "id": "weird-release",
   "metadata": {},
   "outputs": [],
   "source": [
    "# if you just want to print them or do some manipulation, use this code below\n",
    "\n",
    "# for metric, result in zip(metrics, results):\n",
    "#     for i, label in enumerate(outcomes):\n",
    "#         print('{} {}: {:.2f}'.format(label, metric, result[i]))\n",
    "#     print()"
   ]
  },
  {
   "cell_type": "code",
   "execution_count": 40,
   "id": "eastern-shelter",
   "metadata": {},
   "outputs": [
    {
     "name": "stdout",
     "output_type": "stream",
     "text": [
      "Overall precision of RNN: 0.877\n"
     ]
    }
   ],
   "source": [
    "# what was the overall precision\n",
    "\n",
    "from sklearn.metrics import precision_score\n",
    "precision = precision_score(y_test, y_pred, average='micro')\n",
    "print('Overall precision of RNN: {:.3f}'.format(precision))"
   ]
  },
  {
   "cell_type": "markdown",
   "id": "supreme-collection",
   "metadata": {},
   "source": [
    "# Results\n",
    "\n",
    "The confusion matrix shows that there were very few tweets graded as negative or can't.  The neural network doesn't predict any negatives due to the small number.\n",
    "\n",
    "More than half are positive emotions, and rest is split between 'can't tell' and 'no emotion'.  \n",
    "\n",
    "The model predicts at nearly 90% accuracy against the test set.  The base supervised modesl (untuned) only scored around 60% by comparison.  The RNN is well suited for this task.  \n",
    "\n",
    "A larger dataset, or perhaps a more negative dataset might help train the model to make predictions at a higher rate.  In the current state, it would be unabl to pick out the negative sentiment.  Barring a larger dataset, we could oversample the minority class randomly or using SMOTE.  This would make the model more sensitive to 'negative' sentiment.\n"
   ]
  },
  {
   "cell_type": "code",
   "execution_count": null,
   "id": "finite-merit",
   "metadata": {},
   "outputs": [],
   "source": []
  }
 ],
 "metadata": {
  "kernelspec": {
   "display_name": "Python 3",
   "language": "python",
   "name": "python3"
  },
  "language_info": {
   "codemirror_mode": {
    "name": "ipython",
    "version": 3
   },
   "file_extension": ".py",
   "mimetype": "text/x-python",
   "name": "python",
   "nbconvert_exporter": "python",
   "pygments_lexer": "ipython3",
   "version": "3.7.6"
  }
 },
 "nbformat": 4,
 "nbformat_minor": 5
}
